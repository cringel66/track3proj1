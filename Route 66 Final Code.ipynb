{
 "cells": [
  {
   "cell_type": "markdown",
   "metadata": {},
   "source": [
    "# Project: Write a Data Science Blog Post\n",
    "\n",
    "## Business Understanding:\n",
    "Route 66 with be 100 Years Old in 2026  \n",
    "I was curious what websites were listing the \"must see sights\".  Road Affair's listed 66 attractions for their \"favorite things to see on Route 66\". Therefore I used their data for this project of asking questions and writing a blog.\n",
    "\n",
    "Questions to be answered:\n",
    " 1. What's the percentage of each type of attractions that made Road Affair’s list?\n",
    " 2. Does every state have a museum on the list?\n",
    " 3. How many attractions were built in each decade? \n",
    " \n",
    " \n",
    "### Understanding the Data:\n",
    "Road Affair data had 6 columns:\n",
    "\n",
    " - Name of Attraction - What the attraction is commonly known as \n",
    " - Year - Year when the attraction was built\n",
    " - City - City which the attraction is located\n",
    " - State - State which the attraction is located\n",
    " - Type - Refers to if the attraction is a museum, restaurant, site, motel, etc.\n",
    " - Source of Data - What website did this data com from \n",
    " \n",
    "### Prepare Data\n",
    "Determine if column data is needed\n",
    " - Name - Must be included\n",
    " - Year - Needed but if not included the data can not be implied\n",
    " - City - Not important to answer these questions\n",
    " - State - Must be included\n",
    " - Type - Must be include\n",
    " - Source of Data - Not important to answer these questions"
   ]
  },
  {
   "cell_type": "markdown",
   "metadata": {},
   "source": [
    "## First was to read in the dataset file (.csv)\n",
    "The .csv file was imported to the jupyter notebook directory."
   ]
  },
  {
   "cell_type": "markdown",
   "metadata": {},
   "source": [
    "Read Route 66 csv file"
   ]
  },
  {
   "cell_type": "code",
   "execution_count": 5,
   "metadata": {},
   "outputs": [
    {
     "data": {
      "text/html": [
       "<div>\n",
       "<style scoped>\n",
       "    .dataframe tbody tr th:only-of-type {\n",
       "        vertical-align: middle;\n",
       "    }\n",
       "\n",
       "    .dataframe tbody tr th {\n",
       "        vertical-align: top;\n",
       "    }\n",
       "\n",
       "    .dataframe thead th {\n",
       "        text-align: right;\n",
       "    }\n",
       "</style>\n",
       "<table border=\"1\" class=\"dataframe\">\n",
       "  <thead>\n",
       "    <tr style=\"text-align: right;\">\n",
       "      <th></th>\n",
       "      <th>Index</th>\n",
       "      <th>Name</th>\n",
       "      <th>Year</th>\n",
       "      <th>City</th>\n",
       "      <th>State</th>\n",
       "      <th>Type</th>\n",
       "      <th>Source</th>\n",
       "    </tr>\n",
       "  </thead>\n",
       "  <tbody>\n",
       "    <tr>\n",
       "      <th>0</th>\n",
       "      <td>1</td>\n",
       "      <td>Begin sign</td>\n",
       "      <td>NaN</td>\n",
       "      <td>Chicago</td>\n",
       "      <td>Illinois</td>\n",
       "      <td>Site</td>\n",
       "      <td>roadaffair.com</td>\n",
       "    </tr>\n",
       "    <tr>\n",
       "      <th>1</th>\n",
       "      <td>2</td>\n",
       "      <td>Lou Mitchell's</td>\n",
       "      <td>1923.0</td>\n",
       "      <td>Chicago</td>\n",
       "      <td>Illinois</td>\n",
       "      <td>Restaurant</td>\n",
       "      <td>roadaffair.com</td>\n",
       "    </tr>\n",
       "    <tr>\n",
       "      <th>2</th>\n",
       "      <td>3</td>\n",
       "      <td>Gemini Giant</td>\n",
       "      <td>1960.0</td>\n",
       "      <td>Wilmington</td>\n",
       "      <td>Illinois</td>\n",
       "      <td>Site</td>\n",
       "      <td>roadaffair.com</td>\n",
       "    </tr>\n",
       "    <tr>\n",
       "      <th>3</th>\n",
       "      <td>4</td>\n",
       "      <td>Route 66 Hall of Fame &amp; Museum</td>\n",
       "      <td>NaN</td>\n",
       "      <td>Pontiac</td>\n",
       "      <td>Illinois</td>\n",
       "      <td>Museum</td>\n",
       "      <td>roadaffair.com</td>\n",
       "    </tr>\n",
       "    <tr>\n",
       "      <th>4</th>\n",
       "      <td>5</td>\n",
       "      <td>Route 66 Hotel &amp; Conference Center</td>\n",
       "      <td>1950.0</td>\n",
       "      <td>Springfield</td>\n",
       "      <td>Illinois</td>\n",
       "      <td>Motel</td>\n",
       "      <td>roadaffair.com</td>\n",
       "    </tr>\n",
       "  </tbody>\n",
       "</table>\n",
       "</div>"
      ],
      "text/plain": [
       "   Index                                Name    Year         City     State  \\\n",
       "0      1                          Begin sign     NaN      Chicago  Illinois   \n",
       "1      2                      Lou Mitchell's  1923.0      Chicago  Illinois   \n",
       "2      3                        Gemini Giant  1960.0   Wilmington  Illinois   \n",
       "3      4      Route 66 Hall of Fame & Museum     NaN      Pontiac  Illinois   \n",
       "4      5  Route 66 Hotel & Conference Center  1950.0  Springfield  Illinois   \n",
       "\n",
       "         Type           Source  \n",
       "0        Site   roadaffair.com  \n",
       "1  Restaurant  roadaffair.com   \n",
       "2        Site   roadaffair.com  \n",
       "3      Museum   roadaffair.com  \n",
       "4       Motel   roadaffair.com  "
      ]
     },
     "execution_count": 5,
     "metadata": {},
     "output_type": "execute_result"
    }
   ],
   "source": [
    "import numpy as np\n",
    "import pandas as pd\n",
    "import matplotlib.pyplot as plt\n",
    "import ALookAtTheData as t\n",
    "from IPython import display\n",
    "%matplotlib inline\n",
    "\n",
    "df = pd.read_csv('./route66.csv')\n",
    "df.head()"
   ]
  },
  {
   "cell_type": "markdown",
   "metadata": {},
   "source": [
    "### Evaluation:"
   ]
  },
  {
   "cell_type": "markdown",
   "metadata": {},
   "source": [
    "### Question 1:\n",
    "What's the percentage of each type of attractions that made Road Affair’s list?"
   ]
  },
  {
   "cell_type": "markdown",
   "metadata": {},
   "source": [
    "### Analyze\n",
    "The only column of data to answer this question is 'Type'. This will require finding out what types of attractions are on the list and then counting how many of each type are on the list.  First task would be to verify if there's any missing data for 'Type' before getting a percentage by type."
   ]
  },
  {
   "cell_type": "markdown",
   "metadata": {},
   "source": [
    "First, to check for missing values in the Type column.\n",
    "Created a function to check by column name if there's missing values.  "
   ]
  },
  {
   "cell_type": "code",
   "execution_count": 6,
   "metadata": {},
   "outputs": [],
   "source": [
    "def check_missing_values(df, column_name):\n",
    "    \"\"\"return if there's missing values within a specific column in the cvs file\n",
    "    Iput: command to execute - check_missing_values(df, 'Type)\n",
    "            'Type' being the name of the column\n",
    "    Output: If there's no missing values, it prints a list of values for that column\n",
    "            If missing Values, it prints out 'There are missing values in the column'\"\"\"\n",
    "    # Check for missing values in the specified column\n",
    "    missing_values = df[column_name].isnull().sum()\n",
    "\n",
    "    # If there are no missing values, print the list of unique values in the column\n",
    "    if missing_values == 0:\n",
    "        unique_values = df[column_name].unique().tolist()\n",
    "        print(f\"List of unique values in the '{column_name}' column:\")\n",
    "        print(unique_values)\n",
    "    else:\n",
    "        print(f\"There are missing values in the '{column_name}' column.\")\n"
   ]
  },
  {
   "cell_type": "markdown",
   "metadata": {},
   "source": [
    "Call 'check_missing_values' function and check if 'Type' column has missing data"
   ]
  },
  {
   "cell_type": "code",
   "execution_count": 7,
   "metadata": {},
   "outputs": [
    {
     "name": "stdout",
     "output_type": "stream",
     "text": [
      "List of unique values in the 'Type' column:\n",
      "['Site', 'Restaurant', 'Museum', 'Motel', 'Water Tower', 'Bridge', 'Park', 'Theater', 'Art', 'Gas Station', 'Store']\n"
     ]
    }
   ],
   "source": [
    "check_missing_values(df, 'Type')"
   ]
  },
  {
   "cell_type": "markdown",
   "metadata": {},
   "source": [
    "There's no missing data in the 'Type' column."
   ]
  },
  {
   "cell_type": "markdown",
   "metadata": {},
   "source": [
    "Next, get a list of all 'Types' of all atrractions."
   ]
  },
  {
   "cell_type": "code",
   "execution_count": 4,
   "metadata": {},
   "outputs": [
    {
     "name": "stdout",
     "output_type": "stream",
     "text": [
      "['Site', 'Restaurant', 'Site', 'Museum', 'Motel', 'Site', 'Water Tower', 'Bridge', 'Site', 'Park', 'Site', 'Motel', 'Site', 'Museum', 'Theater', 'Art', 'Gas Station', 'Museum', 'Store', 'Bridge', 'Museum', 'Gas Station', 'Restaurant', 'Site', 'Site', 'Motel', 'Museum', 'Restaurant', 'Site', 'Restaurant', 'Site', 'Restaurant', 'Museum', 'Museum', 'Gas Station', 'Water Tower', 'Restaurant', 'Museum', 'Store', 'Site', 'Restaurant', 'Site', 'Store', 'Motel', 'Museum', 'Museum', 'Site', 'Restaurant', 'Store', 'Store', 'Park', 'Store', 'Site', 'Site', 'Museum', 'Restaurant', 'Motel', 'Site', 'Restaurant', 'Site', 'Museum', 'Site', 'Restaurant', 'Museum', 'Motel', 'Site']\n"
     ]
    }
   ],
   "source": [
    "#get list of type of atrractions\n",
    "# list of values of 'Type' column\n",
    "make_list = df['Type'].tolist()\n",
    "  \n",
    "# show the list\n",
    "print(make_list)\n"
   ]
  },
  {
   "cell_type": "markdown",
   "metadata": {},
   "source": [
    "Now, get a list of just the unique values of 'Type'."
   ]
  },
  {
   "cell_type": "code",
   "execution_count": 5,
   "metadata": {},
   "outputs": [
    {
     "data": {
      "text/plain": [
       "array(['Art', 'Bridge', 'Gas Station', 'Motel', 'Museum', 'Park',\n",
       "       'Restaurant', 'Site', 'Store', 'Theater', 'Water Tower'], dtype=object)"
      ]
     },
     "execution_count": 5,
     "metadata": {},
     "output_type": "execute_result"
    }
   ],
   "source": [
    "#get unique list of types\n",
    "# list of values of 'Type' column\n",
    "\n",
    "#find unique type values\n",
    "types = df.Type.unique()\n",
    "\n",
    "#sort values alphabetically\n",
    "types.sort()\n",
    "\n",
    "#display sorted values\n",
    "types"
   ]
  },
  {
   "cell_type": "markdown",
   "metadata": {},
   "source": [
    "There's 11 different 'Types' of attractions which should be displayed in the final pie chart."
   ]
  },
  {
   "cell_type": "markdown",
   "metadata": {},
   "source": [
    "Next, get the count of attractions by Type"
   ]
  },
  {
   "cell_type": "code",
   "execution_count": 4,
   "metadata": {},
   "outputs": [
    {
     "data": {
      "text/plain": [
       "Site           19\n",
       "Restaurant     11\n",
       "Museum         13\n",
       "Motel           6\n",
       "Water Tower     2\n",
       "Bridge          2\n",
       "Park            2\n",
       "Theater         1\n",
       "Art             1\n",
       "Gas Station     3\n",
       "Store           6\n",
       "Name: Type, dtype: int64"
      ]
     },
     "execution_count": 4,
     "metadata": {},
     "output_type": "execute_result"
    }
   ],
   "source": [
    "#get total number of attractions\n",
    "df.shape[0]\n",
    "\n",
    "#count attraction by type\n",
    "df['Type'].value_counts()[df.Type.unique()]\n"
   ]
  },
  {
   "cell_type": "markdown",
   "metadata": {},
   "source": [
    "### Visualize"
   ]
  },
  {
   "cell_type": "markdown",
   "metadata": {},
   "source": [
    "There's a total of 66 attractions on the list.  \n",
    "Now to biuld the pie chart to visiually see how many of each type of attraction is on the list."
   ]
  },
  {
   "cell_type": "code",
   "execution_count": 5,
   "metadata": {},
   "outputs": [
    {
     "data": {
      "image/png": "[encoded data removed]",
      "text/plain": [
       "<matplotlib.figure.Figure at 0x7f216926c160>"
      ]
     },
     "metadata": {},
     "output_type": "display_data"
    }
   ],
   "source": [
    "#Provide the counts for each 'Type' status\n",
    "status_vals = df.Type.value_counts()\n",
    "\n",
    "#Ggenerate a pie chart of attraction by type\n",
    "(status_vals/df.shape[0]).plot(kind=\"pie\");\n",
    "\n",
    "#Title for pie chart\n",
    "plt.title(\"Types of Attrations\");"
   ]
  },
  {
   "cell_type": "markdown",
   "metadata": {},
   "source": [
    "### Explanation of Visualization"
   ]
  },
  {
   "cell_type": "markdown",
   "metadata": {},
   "source": [
    "'Site' has the most type of attraction, followed by Mueseum and the Restaurant.  \n",
    "This lead to another question, what is the percentage of each 'Type'.\n",
    "This provides a table by Type with the percentage."
   ]
  },
  {
   "cell_type": "code",
   "execution_count": 16,
   "metadata": {},
   "outputs": [
    {
     "name": "stdout",
     "output_type": "stream",
     "text": [
      "Percentage by Type:\n",
      "Site           28.8\n",
      "Museum         19.7\n",
      "Restaurant     16.7\n",
      "Store           9.1\n",
      "Motel           9.1\n",
      "Gas Station     4.5\n",
      "Bridge          3.0\n",
      "Park            3.0\n",
      "Water Tower     3.0\n",
      "Art             1.5\n",
      "Theater         1.5\n",
      "Name: Type, dtype: float64\n"
     ]
    }
   ],
   "source": [
    "# Calculate the percentage for each 'Type' status\n",
    "percentage_vals = (status_vals / df.shape[0]) * 100\n",
    "\n",
    "# Round the percentages to one decimal place\n",
    "rounded_percentage_vals = percentage_vals.round(1)\n",
    "\n",
    "# Print the list of percentages\n",
    "print(\"Percentage by Type:\")\n",
    "print(rounded_percentage_vals)"
   ]
  },
  {
   "cell_type": "markdown",
   "metadata": {},
   "source": [
    "Site has 28.8% of the list with Museum and Restaruant being close to each other as 19.7% & 16.7%."
   ]
  },
  {
   "cell_type": "markdown",
   "metadata": {},
   "source": [
    "### Question 2:  \n",
    "Does every state have a museum on the list?"
   ]
  },
  {
   "cell_type": "markdown",
   "metadata": {},
   "source": [
    "### Analyze\n",
    "To answer this question 'Type', 'Name', and 'State' columns are needed.  \n",
    "It's know that Route 66 went through only 8 states.  \n",
    "So the real question is if each of those states' have a museum on the list from Road Affair."
   ]
  },
  {
   "cell_type": "markdown",
   "metadata": {},
   "source": [
    "First, check for missing values in the 'Type' column"
   ]
  },
  {
   "cell_type": "code",
   "execution_count": 8,
   "metadata": {},
   "outputs": [
    {
     "name": "stdout",
     "output_type": "stream",
     "text": [
      "List of unique values in the 'Type' column:\n",
      "['Site', 'Restaurant', 'Museum', 'Motel', 'Water Tower', 'Bridge', 'Park', 'Theater', 'Art', 'Gas Station', 'Store']\n"
     ]
    }
   ],
   "source": [
    "check_missing_values(df, 'Type')"
   ]
  },
  {
   "cell_type": "markdown",
   "metadata": {},
   "source": [
    "Next, check for missing values in the 'Name' column"
   ]
  },
  {
   "cell_type": "code",
   "execution_count": 10,
   "metadata": {},
   "outputs": [
    {
     "name": "stdout",
     "output_type": "stream",
     "text": [
      "List of unique values in the 'Name' column:\n",
      "['Begin sign', \"Lou Mitchell's\", 'Gemini Giant', 'Route 66 Hall of Fame & Museum', 'Route 66 Hotel & Conference Center', \"Henry's Rabbit Ranch\", \"World's Largest Catsup Bottle\", 'Chain of Rocks Bridge', 'Gateway Arch', 'Route 66 State Park', 'Meramec Caverns', 'Wagon Wheel Motel', \"World's Second Largest Rocking Chair\", 'Route 66 Car Museum', '66 Drive-In Theatre', 'Route 66 Mural Park', 'Cars on the Route', 'Galena Mining and Historical Museum', 'Eisler Brothers Old Riverton Store', 'Brush Creek Bridge', 'Baxter Springs Heritage Center & Museum', 'Baxter Springs Independent Oil and Gas Service Station', 'Dairy King', \"Ed Galloway's Totem Pole Park\", 'Blue Whale of Catoosa', 'The Campbell Hotel', 'Heart of Route 66 Auto Museum', 'Rock Cafe', 'Arcadia Round Barn', 'Pops', 'Milk Bottle Grocery', \"Lucille's Roadhouse\", 'Oklahoma Route 66 Museum', 'National Route 66 Museum', 'Tower Station and U-Drop Inn Cafe', 'Leaning Tower of Texas', 'Big Texan Steak Ranch', 'Jack Sisemore Traveland RV Museum', 'U.S. Route 66-Sixth Street Historic District', 'Cadillac Ranch', 'MidPoint Cafe', 'Glenrio Historic District', 'Tee Pee Curios', 'Blue Swallow Motel', 'New Mexico Route 66 Museum', 'Route 66 Auto Museum', 'Blue Hole', '66 Diner', 'Enchanted Trails RV Park & Trading Post', 'Richardson Trading Post', 'Petrified Forest National Park', 'Jack Rabbit Trading Post', \"Standin' on the Corner Park\", 'Meteor Crater', 'Ash Fork Route 66 Museum', \"Delgadillo's Snow Cap Drive-In\", 'El Trovatore Motel', 'Wild Burros', \"Roy's Motel & Cafe\", 'Amboy Crater', 'Route 66 Mother Road Museum', \"Elmer Long's Bottle Tree Ranch\", \"Emma Jean's Holland Burger Cafe\", 'California Route 66 Museum', 'Wigwam Motel', 'End of the Trail']\n"
     ]
    }
   ],
   "source": [
    "check_missing_values(df, 'Name')"
   ]
  },
  {
   "cell_type": "markdown",
   "metadata": {},
   "source": [
    "Next, check for missing values in the 'State' column"
   ]
  },
  {
   "cell_type": "code",
   "execution_count": 9,
   "metadata": {},
   "outputs": [
    {
     "name": "stdout",
     "output_type": "stream",
     "text": [
      "List of unique values in the 'State' column:\n",
      "['Illinois', 'Missouri', 'Kansas', 'Oklahoma', 'Texas', 'New Mexico', 'Arizona', 'California']\n"
     ]
    }
   ],
   "source": [
    "check_missing_values(df, 'State')"
   ]
  },
  {
   "cell_type": "markdown",
   "metadata": {},
   "source": [
    "Confirmed there's no missing values for 'Type', 'Name', and 'State'"
   ]
  },
  {
   "cell_type": "markdown",
   "metadata": {},
   "source": [
    "Sort the list of state is alphabetically order & confirm the count of states"
   ]
  },
  {
   "cell_type": "code",
   "execution_count": 2,
   "metadata": {},
   "outputs": [
    {
     "name": "stdout",
     "output_type": "stream",
     "text": [
      "State List: ['Arizona' 'California' 'Illinois' 'Kansas' 'Missouri' 'New Mexico'\n",
      " 'Oklahoma' 'Texas']\n",
      "Count of States: 8\n"
     ]
    }
   ],
   "source": [
    "#get unique list of states & count them\n",
    "#find unique state values\n",
    "state_list = df.State.unique()\n",
    "\n",
    "#sort values alphabetically\n",
    "state_list.sort()\n",
    "\n",
    "#count number of states in list\n",
    "state_count = state_list.shape[0]\n",
    "\n",
    "\n",
    "print(\"State List:\", state_list)\n",
    "print(\"Count of States:\", state_count)"
   ]
  },
  {
   "cell_type": "markdown",
   "metadata": {},
   "source": [
    "There's 8 states which on the ones that Route 66 went through."
   ]
  },
  {
   "cell_type": "markdown",
   "metadata": {},
   "source": [
    "Get the total count of Museums on the list.\n",
    "Generate a list by State and Name of the attraction if the 'Type' is museum"
   ]
  },
  {
   "cell_type": "code",
   "execution_count": 3,
   "metadata": {},
   "outputs": [
    {
     "name": "stdout",
     "output_type": "stream",
     "text": [
      "Count of Museums: 13\n",
      "         State                                     Name\n",
      "54     Arizona                 Ash Fork Route 66 Museum\n",
      "60  California              Route 66 Mother Road Museum\n",
      "63  California               California Route 66 Museum\n",
      "3     Illinois           Route 66 Hall of Fame & Museum\n",
      "17      Kansas      Galena Mining and Historical Museum\n",
      "20      Kansas  Baxter Springs Heritage Center & Museum\n",
      "13    Missouri                      Route 66 Car Museum\n",
      "44  New Mexico               New Mexico Route 66 Museum\n",
      "45  New Mexico                     Route 66 Auto Museum\n",
      "26    Oklahoma            Heart of Route 66 Auto Museum\n",
      "32    Oklahoma                 Oklahoma Route 66 Museum\n",
      "33    Oklahoma                 National Route 66 Museum\n",
      "37       Texas        Jack Sisemore Traveland RV Museum\n"
     ]
    }
   ],
   "source": [
    "#find unique museums values\n",
    "museum_list = df[(df['Type'] == 'Museum')]\n",
    "\n",
    "#sort values alphabetically by state\n",
    "sorted_museum_list = museum_list.sort_values(by='State')\n",
    "\n",
    "#count number of states in list\n",
    "museum_count = museum_list.shape[0]\n",
    "\n",
    "print(\"Count of Museums:\", museum_count)\n",
    "\n",
    "# Dispaly Museum Name, Type, & State\n",
    "selected_columns = sorted_museum_list[['State', 'Name']]\n",
    "\n",
    "# Print the selected columns\n",
    "print(selected_columns)\n"
   ]
  },
  {
   "cell_type": "markdown",
   "metadata": {},
   "source": [
    "### Visualize\n",
    "Visually display with a bar chart the count of museums per state."
   ]
  },
  {
   "cell_type": "code",
   "execution_count": 5,
   "metadata": {},
   "outputs": [
    {
     "name": "stdout",
     "output_type": "stream",
     "text": [
      "Count of Museums by State:\n",
      " Arizona       1\n",
      "California    2\n",
      "Illinois      1\n",
      "Kansas        2\n",
      "Missouri      1\n",
      "New Mexico    2\n",
      "Oklahoma      3\n",
      "Texas         1\n",
      "Name: State, dtype: int64\n"
     ]
    },
    {
     "data": {
      "image/png": "[encoded data removed]",
      "text/plain": [
       "<matplotlib.figure.Figure at 0x7fdc6aea93c8>"
      ]
     },
     "metadata": {
      "needs_background": "light"
     },
     "output_type": "display_data"
    }
   ],
   "source": [
    "#get a count of museums by state\n",
    "museum_count_by_state = museum_list['State'].value_counts().sort_index()\n",
    "print(\"Count of Museums by State:\\n\", museum_count_by_state)\n",
    "\n",
    "#museum_count_by_state = museum_list['State'].value_counts().sort_index()\n",
    "\n",
    "# Plotting the bar chart\n",
    "plt.figure(figsize=(12, 6))\n",
    "museum_count_by_state.plot.bar()\n",
    "plt.xlabel('State')\n",
    "plt.ylabel('Count')\n",
    "plt.title('Count of Museums by State')\n",
    "\n",
    "# Setting whole number ticks on the y-axis\n",
    "plt.yticks(range(int(max(museum_count_by_state))+1))\n",
    "\n",
    "#Plot bar chart\n",
    "plt.show()"
   ]
  },
  {
   "cell_type": "markdown",
   "metadata": {},
   "source": [
    "### Explanation for Visualization\n",
    "Each state does have at least 1 museum to visit while traveling Route 66.  \n",
    "These are a great place to stop to get local information and history.  \n",
    "It makes seeing the 'sites' on the list that more interesting to stop for a picture."
   ]
  },
  {
   "cell_type": "markdown",
   "metadata": {},
   "source": [
    "### Question 3:\n",
    "How many attractions were built in each decade? "
   ]
  },
  {
   "cell_type": "markdown",
   "metadata": {},
   "source": [
    "### Analyze\n",
    "Since Route 66 will be 100 soon and knowing the heyday of the Route started shortly after many Americans were able to buy cars (mid 1920s), that lead me to my final question.\n",
    "Will there be plenty of the sites to see from the Heyday?"
   ]
  },
  {
   "cell_type": "markdown",
   "metadata": {},
   "source": [
    "To answer this question, the 'Year' was needed.  There's a follow on question after seeing the visual of the places built by decade.  More details on that later."
   ]
  },
  {
   "cell_type": "markdown",
   "metadata": {},
   "source": [
    "Determine if there's missing values for the 'Year' column"
   ]
  },
  {
   "cell_type": "code",
   "execution_count": 11,
   "metadata": {},
   "outputs": [
    {
     "name": "stdout",
     "output_type": "stream",
     "text": [
      "There are missing values in the 'Year' column.\n"
     ]
    }
   ],
   "source": [
    "check_missing_values(df, 'Year')"
   ]
  },
  {
   "cell_type": "markdown",
   "metadata": {},
   "source": [
    "There are missing values for 'Year'.  Since the question is wanting to know the year the attraction was built, the year can not be implied.  Therefore the best approach is to get the count of the attractions missing the year.  There will need to be a bar for that in the final bar chart."
   ]
  },
  {
   "cell_type": "markdown",
   "metadata": {},
   "source": [
    "Next is to get the list of years an attraction was built."
   ]
  },
  {
   "cell_type": "code",
   "execution_count": 6,
   "metadata": {},
   "outputs": [
    {
     "name": "stdout",
     "output_type": "stream",
     "text": [
      "[nan, 1923.0, 1960.0, nan, 1950.0, 1993.0, 1949.0, 1929.0, nan, nan, nan, 1935.0, 2008.0, nan, 1949.0, nan, nan, nan, 1925.0, 1923.0, nan, 1930.0, 1927.0, 1937.0, 1972.0, 1927.0, nan, 1939.0, 1898.0, 2007.0, 1930.0, nan, nan, nan, 1936.0, 1980.0, 1960.0, nan, nan, 1974.0, 1928.0, nan, 1940.0, 1939.0, nan, nan, nan, 1987.0, 1940.0, 1913.0, nan, 1949.0, 1999.0, nan, nan, 1953.0, 1937.0, nan, nan, nan, 1911.0, 2000.0, 1947.0, nan, 1949.0, nan]\n"
     ]
    }
   ],
   "source": [
    "#get list of years built of the atrractions\n",
    "# list of values of 'Year' column\n",
    "make_list = df['Year'].tolist()\n",
    "   \n",
    "    \n",
    "# show the list\n",
    "print(make_list)"
   ]
  },
  {
   "cell_type": "markdown",
   "metadata": {},
   "source": [
    "There's a lot on 'nan' in the list. \n",
    "The next search was to determine to the oldest to newest year an attraction was built so it's know what decade is needed for the first set of data."
   ]
  },
  {
   "cell_type": "code",
   "execution_count": 7,
   "metadata": {},
   "outputs": [
    {
     "data": {
      "text/plain": [
       "array([ 1898.,  1911.,  1913.,  1923.,  1925.,  1927.,  1928.,  1929.,\n",
       "        1930.,  1935.,  1936.,  1937.,  1939.,  1940.,  1947.,  1949.,\n",
       "        1950.,  1953.,  1960.,  1972.,  1974.,  1980.,  1987.,  1993.,\n",
       "        1999.,  2000.,  2007.,  2008.,    nan])"
      ]
     },
     "execution_count": 7,
     "metadata": {},
     "output_type": "execute_result"
    }
   ],
   "source": [
    "#get unique list of years\n",
    "#find unique year values\n",
    "year = df.Year.unique()\n",
    "\n",
    "#sort values\n",
    "year.sort()\n",
    "\n",
    "#display sorted values\n",
    "year"
   ]
  },
  {
   "cell_type": "markdown",
   "metadata": {},
   "source": [
    "1898 is the oldest year on the list therefore the first decade will be 1890-1899.  The newest attraction was built in 2008, therefore the last decade for the list is 2000-2010. There will also be a bar for 'No Year'."
   ]
  },
  {
   "cell_type": "markdown",
   "metadata": {},
   "source": [
    "This is to get a total number of attraction built in a single year."
   ]
  },
  {
   "cell_type": "code",
   "execution_count": 8,
   "metadata": {},
   "outputs": [
    {
     "data": {
      "text/plain": [
       "NaN        NaN\n",
       " 1923.0    2.0\n",
       " 1960.0    2.0\n",
       " 1950.0    1.0\n",
       " 1993.0    1.0\n",
       " 1949.0    4.0\n",
       " 1929.0    1.0\n",
       " 1935.0    1.0\n",
       " 2008.0    1.0\n",
       " 1925.0    1.0\n",
       " 1930.0    2.0\n",
       " 1927.0    2.0\n",
       " 1937.0    2.0\n",
       " 1972.0    1.0\n",
       " 1939.0    2.0\n",
       " 1898.0    1.0\n",
       " 2007.0    1.0\n",
       " 1936.0    1.0\n",
       " 1980.0    1.0\n",
       " 1974.0    1.0\n",
       " 1928.0    1.0\n",
       " 1940.0    2.0\n",
       " 1987.0    1.0\n",
       " 1913.0    1.0\n",
       " 1999.0    1.0\n",
       " 1953.0    1.0\n",
       " 1911.0    1.0\n",
       " 2000.0    1.0\n",
       " 1947.0    1.0\n",
       "Name: Year, dtype: float64"
      ]
     },
     "execution_count": 8,
     "metadata": {},
     "output_type": "execute_result"
    }
   ],
   "source": [
    "#get total number of attractions by year built\n",
    "df.shape[0]\n",
    "\n",
    "#count attraction by type\n",
    "df['Year'].value_counts()[df.Year.unique()]"
   ]
  },
  {
   "cell_type": "markdown",
   "metadata": {},
   "source": [
    "There are several attractions that were built in the same year.  This was more for curiousity sake.  The important piece is to get the count of attraction built by decade.\n",
    "Starting with decade 1890 to 1899 with the final decade being 2010-2019.  Plus the count for 'No Year'."
   ]
  },
  {
   "cell_type": "code",
   "execution_count": 11,
   "metadata": {},
   "outputs": [
    {
     "name": "stdout",
     "output_type": "stream",
     "text": [
      "Count of data points for the decade 1890:  1\n",
      "Count of data points for the decade 1900:  0\n",
      "Count of data points for the decade 1910:  2\n",
      "Count of data points for the decade 1920:  7\n",
      "Count of data points for the decade 1930:  8\n",
      "Count of data points for the decade 1940:  7\n",
      "Count of data points for the decade 1950:  2\n",
      "Count of data points for the decade 1960:  2\n",
      "Count of data points for the decade 1970:  2\n",
      "Count of data points for the decade 1980:  2\n",
      "Count of data points for the decade 1990:  2\n",
      "Count of data points for the decade 2000:  3\n",
      "Count of data points for the decade 2010:  0\n",
      "Count of data points for no year listed:  28\n"
     ]
    }
   ],
   "source": [
    "#Get count for Decade 1890 to 1899\n",
    "start_year_1890 = 1890\n",
    "end_year_1890 = start_year_1890 + 9  # Add 9 to get the end year of the decade\n",
    "decade_1890 = df[(df['Year'] >= start_year_1890) & (df['Year'] <= end_year_1890)]\n",
    "decade_count_1890 = decade_1890.shape[0]\n",
    "print(\"Count of data points for the decade 1890: \", decade_count_1890)\n",
    "\n",
    "\n",
    "#Get count for Decade 1900 to 1909\n",
    "start_year_1900 = 1900\n",
    "end_year_1900 = start_year_1900 + 9  # Add 9 to get the end year of the decade\n",
    "decade_1900 = df[(df['Year'] >= start_year_1900) & (df['Year'] <= end_year_1900)]\n",
    "decade_count_1900 = decade_1900.shape[0]\n",
    "print(\"Count of data points for the decade 1900: \", decade_count_1900)\n",
    "\n",
    "\n",
    "#Get count for Decade 1910 to 1919\n",
    "start_year_1910 = 1910\n",
    "end_year_1910 = start_year_1910 + 9  # Add 9 to get the end year of the decade\n",
    "decade_1910 = df[(df['Year'] >= start_year_1910) & (df['Year'] <= end_year_1910)]\n",
    "decade_count_1910 = decade_1910.shape[0]\n",
    "print(\"Count of data points for the decade 1910: \", decade_count_1910)\n",
    "\n",
    "\n",
    "#Get count for Decade 1920 to 1929\n",
    "start_year_1920 = 1920\n",
    "end_year_1920 = start_year_1920 + 9  # Add 9 to get the end year of the decade\n",
    "decade_1920 = df[(df['Year'] >= start_year_1920) & (df['Year'] <= end_year_1920)]\n",
    "decade_count_1920 = decade_1920.shape[0]\n",
    "print(\"Count of data points for the decade 1920: \", decade_count_1920)\n",
    "\n",
    "\n",
    "#Get count for Decade 1930 to 1939\n",
    "start_year_1930 = 1930\n",
    "end_year_1930 = start_year_1930 + 9  # Add 9 to get the end year of the decade\n",
    "decade_1930 = df[(df['Year'] >= start_year_1930) & (df['Year'] <= end_year_1930)]\n",
    "decade_count_1930 = decade_1930.shape[0]\n",
    "print(\"Count of data points for the decade 1930: \", decade_count_1930)\n",
    "\n",
    "\n",
    "#Get count for Decade 1940 to 1949\n",
    "start_year_1940 = 1940\n",
    "end_year_1940 = start_year_1940 + 9  # Add 9 to get the end year of the decade\n",
    "decade_1940 = df[(df['Year'] >= start_year_1940) & (df['Year'] <= end_year_1940)]\n",
    "decade_count_1940 = decade_1940.shape[0]\n",
    "print(\"Count of data points for the decade 1940: \", decade_count_1940)\n",
    "\n",
    "\n",
    "#Get count for Decade 1950 to 1959\n",
    "start_year_1950 = 1950\n",
    "end_year_1950 = start_year_1950 + 9  # Add 9 to get the end year of the decade\n",
    "decade_1950 = df[(df['Year'] >= start_year_1950) & (df['Year'] <= end_year_1950)]\n",
    "decade_count_1950 = decade_1950.shape[0]\n",
    "print(\"Count of data points for the decade 1950: \", decade_count_1950)\n",
    "\n",
    "\n",
    "#Get count for Decade 1960 to 1969\n",
    "start_year_1960 = 1960\n",
    "end_year_1960 = start_year_1960 + 9  # Add 9 to get the end year of the decade\n",
    "decade_1960 = df[(df['Year'] >= start_year_1960) & (df['Year'] <= end_year_1960)]\n",
    "decade_count_1960 = decade_1960.shape[0]\n",
    "print(\"Count of data points for the decade 1960: \", decade_count_1960)\n",
    "\n",
    "\n",
    "#Get count for Decade 1970 to 1979\n",
    "start_year_1970 = 1970\n",
    "end_year_1970 = start_year_1970 + 9  # Add 9 to get the end year of the decade\n",
    "decade_1970 = df[(df['Year'] >= start_year_1970) & (df['Year'] <= end_year_1970)]\n",
    "decade_count_1970 = decade_1970.shape[0]\n",
    "print(\"Count of data points for the decade 1970: \", decade_count_1970)\n",
    "\n",
    "\n",
    "#Get count for Decade 1980 to 1989\n",
    "start_year_1980 = 1980\n",
    "end_year_1980 = start_year_1980 + 9  # Add 9 to get the end year of the decade\n",
    "decade_1980 = df[(df['Year'] >= start_year_1980) & (df['Year'] <= end_year_1980)]\n",
    "decade_count_1980 = decade_1980.shape[0]\n",
    "print(\"Count of data points for the decade 1980: \", decade_count_1980)\n",
    "\n",
    "\n",
    "#Get count for Decade 1990 to 1999\n",
    "start_year_1990 = 1990\n",
    "end_year_1990 = start_year_1990 + 9  # Add 9 to get the end year of the decade\n",
    "decade_1990 = df[(df['Year'] >= start_year_1990) & (df['Year'] <= end_year_1990)]\n",
    "decade_count_1990 = decade_1990.shape[0]\n",
    "print(\"Count of data points for the decade 1990: \", decade_count_1990)\n",
    "\n",
    "\n",
    "#Get count for Decade 2000 to 2009\n",
    "start_year_2000 = 2000\n",
    "end_year_2000 = start_year_2000 + 9  # Add 9 to get the end year of the decade\n",
    "decade_2000 = df[(df['Year'] >= start_year_2000) & (df['Year'] <= end_year_2000)]\n",
    "decade_count_2000 = decade_2000.shape[0]\n",
    "print(\"Count of data points for the decade 2000: \", decade_count_2000)\n",
    "\n",
    "\n",
    "#Get count for Decade 2010 to 2019\n",
    "start_year_2010 = 2010\n",
    "end_year_2010 = start_year_2010 + 9  # Add 9 to get the end year of the decade\n",
    "decade_2010 = df[(df['Year'] >= start_year_2010) & (df['Year'] <= end_year_2010)]\n",
    "decade_count_2010 = decade_2010.shape[0]\n",
    "print(\"Count of data points for the decade 2010: \", decade_count_2010)\n",
    "\n",
    "\n",
    "# Count NaN values of Year column\n",
    "count_nan = df['Year'].isna().sum().sum()\n",
    "print(\"Count of data points for no year listed: \", count_nan)"
   ]
  },
  {
   "cell_type": "markdown",
   "metadata": {},
   "source": [
    "### Visualize\n",
    "There are 2 decades which no attraction was built (1900-1909 & 2010-2019).  Note there are 28 attractions that had no date listed.  So the dataset really only has 38 attractions with a year built."
   ]
  },
  {
   "cell_type": "markdown",
   "metadata": {},
   "source": [
    "To visualize the data for the decade which the most attractions were built."
   ]
  },
  {
   "cell_type": "code",
   "execution_count": 13,
   "metadata": {},
   "outputs": [
    {
     "data": {
      "image/png": "[encoded data removed]",
      "text/plain": [
       "<matplotlib.figure.Figure at 0x7f2162eca940>"
      ]
     },
     "metadata": {
      "needs_background": "light"
     },
     "output_type": "display_data"
    }
   ],
   "source": [
    "# plot attraction built by deacdes\n",
    "decades = ['1890s', '1900s', '1910s', '1920s', '1930s', '1940s', '1950s', '1960s', '1970s', '1980s', '1990s', '2000s','2010s', 'No Yr']\n",
    "counts = [decade_count_1890, decade_count_1900, decade_count_1910, decade_count_1920, decade_count_1930, decade_count_1940, decade_count_1950, decade_count_1960, decade_count_1970, decade_count_1980, decade_count_1990, decade_count_2000, decade_count_2010, count_nan]\n",
    "\n",
    "# Plotting the bar chart\n",
    "plt.bar(decades, counts)\n",
    "plt.xlabel('Decades')\n",
    "plt.ylabel('Counts')\n",
    "plt.title('Attractions Built by Decade')\n",
    "\n",
    "plt.xticks(rotation=90)\n",
    "plt.show()"
   ]
  },
  {
   "cell_type": "markdown",
   "metadata": {},
   "source": [
    "### Explanation of Visualization\n",
    "The most attractions were built in the 20's - 40's which would of been the heyday of the Route.  It is intersting to see attractions continued to be built from the 50's into the new century.  Route 66 was decomissioned in 1985 and there are attraction built after that."
   ]
  },
  {
   "cell_type": "markdown",
   "metadata": {},
   "source": [
    "The follow of question was, what attractions were built in the 50's or later."
   ]
  },
  {
   "cell_type": "code",
   "execution_count": 19,
   "metadata": {},
   "outputs": [
    {
     "name": "stdout",
     "output_type": "stream",
     "text": [
      "      Year                                  Name         City       State  \\\n",
      "4   1950.0    Route 66 Hotel & Conference Center  Springfield    Illinois   \n",
      "55  1953.0        Delgadillo's Snow Cap Drive-In     Seligman     Arizona   \n",
      "2   1960.0                          Gemini Giant   Wilmington    Illinois   \n",
      "36  1960.0                 Big Texan Steak Ranch     Amarillo       Texas   \n",
      "24  1972.0                 Blue Whale of Catoosa      Catoosa    Oklahoma   \n",
      "39  1974.0                        Cadillac Ranch     Amarillo       Texas   \n",
      "35  1980.0                Leaning Tower of Texas        Groom       Texas   \n",
      "47  1987.0                              66 Diner  Albuquerque  New Mexico   \n",
      "5   1993.0                  Henry's Rabbit Ranch     Staunton    Illinois   \n",
      "52  1999.0           Standin' on the Corner Park      Winslow     Arizona   \n",
      "61  2000.0        Elmer Long's Bottle Tree Ranch   Oro Grande  California   \n",
      "29  2007.0                                  Pops      Arcadia    Oklahoma   \n",
      "12  2008.0  World's Second Largest Rocking Chair         Cuba    Missouri   \n",
      "\n",
      "           Type  \n",
      "4         Motel  \n",
      "55   Restaurant  \n",
      "2          Site  \n",
      "36   Restaurant  \n",
      "24         Site  \n",
      "39         Site  \n",
      "35  Water Tower  \n",
      "47   Restaurant  \n",
      "5          Site  \n",
      "52         Site  \n",
      "61         Site  \n",
      "29   Restaurant  \n",
      "12         Site  \n"
     ]
    }
   ],
   "source": [
    "#what attractions were built after 1950?\n",
    "built_after_1950 = df[(df['Year'] >= 1950)]\n",
    "\n",
    "#sort values alphabetically by state\n",
    "sorted_1950plus_list = built_after_1950.sort_values(by='Year')\n",
    "\n",
    "# Dispaly Museum Name, Type, & State\n",
    "selected_columns = sorted_1950plus_list[['Year', 'Name', 'City', 'State', 'Type']]\n",
    "\n",
    "# Print the selected columns\n",
    "print(selected_columns)"
   ]
  },
  {
   "cell_type": "markdown",
   "metadata": {},
   "source": [
    "From the 38 attractions with a year built, 13 of them were built in 1950 or later.  That's over a 1/3 of the attractions.  In those 13, 7 were sites.  It just shows that people continue to build new attractions to bring people to their business.  Let's keep Route 66 hopin. "
   ]
  }
 ],
 "metadata": {
  "kernelspec": {
   "display_name": "Python 3",
   "language": "python",
   "name": "python3"
  },
  "language_info": {
   "codemirror_mode": {
    "name": "ipython",
    "version": 3
   },
   "file_extension": ".py",
   "mimetype": "text/x-python",
   "name": "python",
   "nbconvert_exporter": "python",
   "pygments_lexer": "ipython3",
   "version": "3.6.3"
  }
 },
 "nbformat": 4,
 "nbformat_minor": 2
}
